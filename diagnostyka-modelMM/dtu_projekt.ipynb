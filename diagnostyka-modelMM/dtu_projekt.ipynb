{
  "nbformat": 4,
  "nbformat_minor": 0,
  "metadata": {
    "colab": {
      "name": "dtu_projekt.ipynb",
      "provenance": [],
      "collapsed_sections": [],
      "include_colab_link": true
    },
    "kernelspec": {
      "name": "python3",
      "display_name": "Python 3"
    }
  },
  "cells": [
    {
      "cell_type": "markdown",
      "metadata": {
        "id": "view-in-github",
        "colab_type": "text"
      },
      "source": [
        "<a href=\"https://colab.research.google.com/github/nay-uku/studia/blob/main/diagnostyka-modelMM/dtu_projekt.ipynb\" target=\"_parent\"><img src=\"https://colab.research.google.com/assets/colab-badge.svg\" alt=\"Open In Colab\"/></a>"
      ]
    },
    {
      "cell_type": "markdown",
      "metadata": {
        "id": "fr_XM7gBcnvB"
      },
      "source": [
        "<b>Temat:</b>\r\n",
        "28. Projekt i implementacja algorytmu wyznaczającego optymalne struktury zgodne z modelem MM (2 osoby)\r\n",
        "\r\n",
        "\r\n",
        "<b>Autorzy:</b>\r\n",
        "\r\n",
        "\r\n",
        "*   Karol Baranowski WCY19KB2S4\r\n",
        "*   Wojciech Grzyb   WCY19KB2S4\r\n",
        "\r\n"
      ]
    },
    {
      "cell_type": "markdown",
      "metadata": {
        "id": "e1Nulbm3lE8Y"
      },
      "source": [
        "Załadowanie parametrów:"
      ]
    },
    {
      "cell_type": "code",
      "metadata": {
        "colab": {
          "resources": {
            "http://localhost:8080/nbextensions/google.colab/files.js": {
              "data": "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",
              "ok": true,
              "headers": [
                [
                  "content-type",
                  "application/javascript"
                ]
              ],
              "status": 200,
              "status_text": ""
            }
          },
          "base_uri": "https://localhost:8080/",
          "height": 106
        },
        "id": "zZ8FjCa-aF--",
        "outputId": "75e579dc-d8f6-4b46-9783-15484d99390f"
      },
      "source": [
        "from google.colab import files\r\n",
        "\r\n",
        "uploaded = files.upload()"
      ],
      "execution_count": null,
      "outputs": [
        {
          "output_type": "display_data",
          "data": {
            "text/html": [
              "\n",
              "     <input type=\"file\" id=\"files-3e92e38f-dda9-4b08-86f4-7abca64fb161\" name=\"files[]\" multiple disabled\n",
              "        style=\"border:none\" />\n",
              "     <output id=\"result-3e92e38f-dda9-4b08-86f4-7abca64fb161\">\n",
              "      Upload widget is only available when the cell has been executed in the\n",
              "      current browser session. Please rerun this cell to enable.\n",
              "      </output>\n",
              "      <script src=\"/nbextensions/google.colab/files.js\"></script> "
            ],
            "text/plain": [
              "<IPython.core.display.HTML object>"
            ]
          },
          "metadata": {
            "tags": []
          }
        },
        {
          "output_type": "stream",
          "text": [
            "Saving cube_3-true.txt to cube_3-true.txt\n",
            "Saving cube_2-true.txt to cube_2-true.txt\n"
          ],
          "name": "stdout"
        }
      ]
    },
    {
      "cell_type": "code",
      "metadata": {
        "id": "2wQb47j8cxD2",
        "colab": {
          "base_uri": "https://localhost:8080/"
        },
        "outputId": "58b29756-588c-4074-d4e6-09cd48f8adeb"
      },
      "source": [
        "import re\r\n",
        "\r\n",
        "# Załadowanie tabeli porównań\r\n",
        "file_name = str(input(\"Podaj nazwę pliku z tabelą porównań: \"))\r\n",
        "comp_tests = []\r\n",
        "with open(file_name, 'r') as f:\r\n",
        "  for line in f:\r\n",
        "    pattern = re.compile(\"^\\|(\\s+\\d+\\s+\\|){4}$\")\r\n",
        "    if pattern.match(line):\r\n",
        "      comp_test = [int(x) for x in re.findall(\"\\d+\", line)[1:]]  # Test porównawczy\r\n",
        "      # Weryfikacja testu porównawczego:\r\n",
        "      if len(comp_test) > len(set(comp_test)):\r\n",
        "        raise Exception(\"Podana tabela porównań jest nieprawidłowa!\")\r\n",
        "      comp_tests.append(comp_test)\r\n",
        "  if len(comp_tests) == 0:\r\n",
        "    raise Exception(\"Nieprawidłowa struktura pliku!\")\r\n",
        "\r\n",
        "# Załadowanie parametru t\r\n",
        "t = int(input(\"Podaj parametr t: \"))\r\n"
      ],
      "execution_count": null,
      "outputs": [
        {
          "output_type": "stream",
          "text": [
            "Podaj nazwę pliku z tabelą porównań: cube_3-true.txt\n",
            "Podaj parametr t: 3\n"
          ],
          "name": "stdout"
        }
      ]
    },
    {
      "cell_type": "markdown",
      "metadata": {
        "id": "e5DBYuZ6lQ5G"
      },
      "source": [
        "Konwersja tabeli porównań do sześcianu:"
      ]
    },
    {
      "cell_type": "code",
      "metadata": {
        "id": "Ua5wy4e8d-2x"
      },
      "source": [
        "import numpy as np\r\n",
        "import sys\r\n",
        "\r\n",
        "np.set_printoptions(threshold=sys.maxsize)\r\n",
        "\r\n",
        "def comp_tests_to_cube(comp_tests):\r\n",
        "  # Ustawienie zmiennych\r\n",
        "  n_E = max(max(comp_tests))  # wyznaczenie rzędu grafu\r\n",
        "  cube = np.zeros((n_E,n_E,n_E), int)  # deklaracja sześcianu\r\n",
        "  for comp_test in comp_tests:\r\n",
        "    e_k = comp_test[0]-1  # komparator\r\n",
        "    e_i = comp_test[1]-1  # element porównawczy 1\r\n",
        "    e_j = comp_test[2]-1  # element porównawczy 2\r\n",
        "    cube[e_k,e_i,e_j] = 1\r\n",
        "    cube[e_k,e_j,e_i] = 1\r\n",
        "  return cube\r\n",
        "\r\n",
        "cube = comp_tests_to_cube(comp_tests)"
      ],
      "execution_count": null,
      "outputs": []
    },
    {
      "cell_type": "markdown",
      "metadata": {
        "id": "AEwx66WXp-b8"
      },
      "source": [
        "Implementacja funkcji sprawdzających czy graf jest t-diagnozowalny"
      ]
    },
    {
      "cell_type": "code",
      "metadata": {
        "id": "GoK4qGnEqA4f"
      },
      "source": [
        "import itertools as it\r\n",
        "\r\n",
        "def check_necessary_conditions(cube, t, debug=False):\r\n",
        "  # Ustawienie zmiennych\r\n",
        "  n_E = len(cube)  # rząd grafu\r\n",
        "  # Weryfikacja warunku 1:\r\n",
        "  if not (n_E >= 2*t +1):\r\n",
        "    if debug:\r\n",
        "      print(\"WK: warunek 1 nie jest spełniony!\")\r\n",
        "    return False\r\n",
        "  # Weryfikacja warunku 2:\r\n",
        "  for i in range(n_E):\r\n",
        "    n_adj = len([j for j in range(n_E) if np.count_nonzero(cube[i][j] == 1) > 0])\r\n",
        "    if not (n_adj >= t):\r\n",
        "      if debug:\r\n",
        "        print(\"WK: warunek 2 nie jest spełniony!\")\r\n",
        "      return False\r\n",
        "  # WK są spełnione\r\n",
        "  if debug:\r\n",
        "    print(\"WK są spełnione.\")\r\n",
        "  return True\r\n",
        "\r\n",
        "\r\n",
        "def get_comp_tests(cube):\r\n",
        "  # Ustawienie zmiennych\r\n",
        "  n_E = len(cube)  # rząd grafu\r\n",
        "  comp_tests = []  # deklaracjia PSI'\r\n",
        "  for e_k in range(n_E):\r\n",
        "    for e_i in range(n_E):\r\n",
        "      for e_j in range(n_E):\r\n",
        "        if cube[e_k, e_i, e_j] == 1:\r\n",
        "          comp_test = (e_k, (e_i, e_j))  # odczytanie testu porównawczego\r\n",
        "          comp_tests.append(comp_test)  # dodanie odczytanego testu do zbioru testów porównawczych\r\n",
        "  return comp_tests\r\n",
        "  \r\n",
        "def get_T_E1(cube, E1):\r\n",
        "  # Ustawienie zmiennych\r\n",
        "  T_E1 = set()  # deklaracja T(E`)\r\n",
        "  comp_tests = get_comp_tests(cube)  # PSI\r\n",
        "  for comp_test in comp_tests:\r\n",
        "    e_k = comp_test[0]  # komparator\r\n",
        "    e_i = comp_test[1][0]  # element porównawczy 1\r\n",
        "    e_j = comp_test[1][1]  # element porównawczy 2\r\n",
        "    if e_k in E1 and e_i in E1 and e_j not in E1:\r\n",
        "      T_E1.add(e_j)\r\n",
        "  return T_E1\r\n",
        "\r\n",
        "def get_Gamma_E1(cube, E1):\r\n",
        "  # Ustawienie zmiennych\r\n",
        "  n_E = len(cube)  # rząd grafu\r\n",
        "  Gamma_E1 = set()  # deklaracja Γ(E`)\r\n",
        "  for e_k in E1:\r\n",
        "    e_k_adj = [e_i for e_i in range(n_E) if np.count_nonzero(cube[e_k][e_i] == 1) > 0]\r\n",
        "    for e_i in e_k_adj:\r\n",
        "      if e_i not in E1:\r\n",
        "        Gamma_E1.add(e_i)\r\n",
        "  return Gamma_E1\r\n",
        "\r\n",
        "def check_sufficient_condition(cube, t, debug=False):\r\n",
        "  # Ustawienie zmiennych\r\n",
        "  n_E = len(cube)  # rząd grafu\r\n",
        "  E = [i for i in range(n_E)]  # otagowanie wierzchołków\r\n",
        "  # Weryfikacja warunku:\r\n",
        "  for s in range(t-1):\r\n",
        "    n_E1 = n_E-2*t+s  # rząd Grafu E`\r\n",
        "    # n_E1 = 2*(t-s)  # rząd Grafu E`\r\n",
        "    all_E1 = it.combinations(E, n_E1)  # wygenerowanie wszystkich możliwych zbiorów E`\r\n",
        "    for E1 in all_E1:\r\n",
        "      T_E1 = get_T_E1(cube, E1)\r\n",
        "      if not (len(T_E1) > s):\r\n",
        "        if debug:\r\n",
        "          print(\"WW: warunek nie jest spełniony!\")\r\n",
        "          print(f\"E1: {E1}\")\r\n",
        "          print(f\"T_E1: {T_E1}\")\r\n",
        "          print(f\"len(T_E1): {len(T_E1)}\")\r\n",
        "          print(f\"s: {s}\")\r\n",
        "        return False\r\n",
        "  # WW są spełnione\r\n",
        "  if debug:\r\n",
        "    print(\"WW są spełnione.\")\r\n",
        "  return True"
      ],
      "execution_count": null,
      "outputs": []
    },
    {
      "cell_type": "markdown",
      "metadata": {
        "id": "ZV1zBF29l2Ne"
      },
      "source": [
        "Weryfikacja czy wczytany sześcian jest prawidłowy:"
      ]
    },
    {
      "cell_type": "code",
      "metadata": {
        "id": "HjgwtLcPnrTf",
        "colab": {
          "base_uri": "https://localhost:8080/"
        },
        "outputId": "cdb1701a-0ec8-4a64-ab4b-04f0d0aec13c"
      },
      "source": [
        "def is_cube_valid(cube, t, debug=False):\r\n",
        "  # Sprawdzenie WK\r\n",
        "  if not check_necessary_conditions(cube, t, debug):\r\n",
        "    return False\r\n",
        "  # Sprawdzenie WW\r\n",
        "  if not check_sufficient_condition(cube, t, debug):\r\n",
        "    return False\r\n",
        "  # Sześciań jest prawidłowy\r\n",
        "  if debug:\r\n",
        "    print(\"Sześcian jest prawidłowy!\")\r\n",
        "  return True\r\n",
        "\r\n",
        "is_cube_valid(cube, t, debug=True)"
      ],
      "execution_count": null,
      "outputs": [
        {
          "output_type": "stream",
          "text": [
            "WK są spełnione.\n",
            "WW: warunek nie jest spełniony!\n",
            "E1: (0,)\n",
            "T_E1: set()\n",
            "len(T_E1): 0\n",
            "s: 0\n"
          ],
          "name": "stdout"
        },
        {
          "output_type": "execute_result",
          "data": {
            "text/plain": [
              "False"
            ]
          },
          "metadata": {
            "tags": []
          },
          "execution_count": 8
        }
      ]
    },
    {
      "cell_type": "markdown",
      "metadata": {
        "id": "TM_O40PCn_xG"
      },
      "source": [
        "Generowanie optymalnej t-diagnozowalnej SOD:"
      ]
    },
    {
      "cell_type": "code",
      "metadata": {
        "id": "P8Rrda3tpI0j"
      },
      "source": [
        "import math\r\n",
        "\r\n",
        "def gen_opt_cube_naive(n, t):\r\n",
        "  cube = np.zeros((n,n,n), int)  # deklaracja sześcianu\r\n",
        "  # Wygenerowanie t+1 prób porównawczych dla każdego komparatora\r\n",
        "  for i in range(n):\r\n",
        "    arange = [x for x in range(n*n) if (x > math.floor(x/n)*(n+1)) and (i*n > x or x >= i*n+n) and (x%n != i) and (x%(n+1) != 0)]  # e_k != e_i and e_k != e_j and e_i != e_j\r\n",
        "    if len(arange) < t+1:\r\n",
        "      raise Exception(\"Podano niewłaściwe parametry!\")\r\n",
        "    for idx in np.random.permutation(arange)[:t+1]:\r\n",
        "      row = math.floor(idx/n)\r\n",
        "      col = idx - n*row\r\n",
        "      cube[i, row, col] = 1\r\n",
        "      cube[i, col, row] = 1\r\n",
        "  return cube\r\n",
        "\r\n",
        "def gen_opt_cube_analytic(t):\r\n",
        "  n = 2*t+1\r\n",
        "  cube = np.zeros((n,n,n), int)  # deklaracja sześcianu\r\n",
        "  # Wygenerowanie t+1 prób porównawczych dla każdego komparatora\r\n",
        "  for e_k in range(n):\r\n",
        "    e_i = (e_k+1)%n\r\n",
        "    for e_j in [e_j for e_j in range(n) if e_j != e_i and e_j != e_k and e_j != (e_k+2)%n ]:\r\n",
        "      cube[e_k, e_i, e_j] = 1\r\n",
        "      cube[e_k, e_j, e_i] = 1\r\n",
        "  return cube\r\n",
        "\r\n",
        "# Pomysł na optymalizację:\r\n",
        "# Wykorzystać dynamic programming do równomiernego wylosowania prób porównawczych (line 35: e_j)\r\n",
        "def gen_opt_cube_standard(n, t):\r\n",
        "  cube = np.zeros((n,n,n), int)  # deklaracja sześcianu\r\n",
        "  # Wygenerowanie t+1 prób porównawczych dla każdego komparatora\r\n",
        "  for e_k in range(n):\r\n",
        "    e_i = (e_k+1)%n\r\n",
        "    for e_j in np.random.permutation([e_j for e_j in range(n) if e_j != e_i and e_j != e_k])[:t+1]:\r\n",
        "      cube[e_k, e_i, e_j] = 1\r\n",
        "      cube[e_k, e_j, e_i] = 1\r\n",
        "  return cube"
      ],
      "execution_count": null,
      "outputs": []
    },
    {
      "cell_type": "code",
      "metadata": {
        "id": "jVrxyh2k_tH8",
        "colab": {
          "base_uri": "https://localhost:8080/"
        },
        "outputId": "ef2efc7c-7c25-429f-89de-4407338b9fb9"
      },
      "source": [
        "t=3\r\n",
        "cube = gen_opt_cube_analytic(t)\r\n",
        "if check_necessary_conditions(cube, t, debug=True) and check_sufficient_condition(cube, t, debug=True):\r\n",
        "  print(f\"Graf jest {t}-diagnozowalny\")\r\n",
        "  print(cube)\r\n",
        "else:\r\n",
        "  print(f\"Graf NIE jest {t}-diagnozowalny\")"
      ],
      "execution_count": null,
      "outputs": [
        {
          "output_type": "stream",
          "text": [
            "WK są spełnione.\n",
            "WW: warunek nie jest spełniony!\n",
            "E1: (0,)\n",
            "T_E1: set()\n",
            "len(T_E1): 0\n",
            "s: 0\n",
            "Graf NIE jest 3-diagnozowalny\n"
          ],
          "name": "stdout"
        }
      ]
    },
    {
      "cell_type": "code",
      "metadata": {
        "id": "OxiLjPzN6fCn",
        "colab": {
          "base_uri": "https://localhost:8080/"
        },
        "outputId": "74e82453-bc98-4cf9-ad87-39401df50713"
      },
      "source": [
        "t=3\r\n",
        "cube = gen_opt_cube_standard(2*t+2, t)\r\n",
        "if check_necessary_conditions(cube, t, debug=True) and check_sufficient_condition(cube, t, debug=True):\r\n",
        "  print(f\"Graf jest {t}-diagnozowalny\")\r\n",
        "  print(cube)\r\n",
        "else:\r\n",
        "  print(f\"Graf NIE jest {t}-diagnozowalny\")"
      ],
      "execution_count": null,
      "outputs": [
        {
          "output_type": "stream",
          "text": [
            "WK są spełnione.\n",
            "WW: warunek nie jest spełniony!\n",
            "E1: (1, 3)\n",
            "T_E1: set()\n",
            "len(T_E1): 0\n",
            "s: 0\n",
            "Graf NIE jest 3-diagnozowalny\n"
          ],
          "name": "stdout"
        }
      ]
    },
    {
      "cell_type": "code",
      "metadata": {
        "id": "HkdgEvflAH-5",
        "colab": {
          "base_uri": "https://localhost:8080/"
        },
        "outputId": "1933b12d-5115-42bd-c6af-164fbf84f1fa"
      },
      "source": [
        "t=3\r\n",
        "for i in range(100):\r\n",
        "  cube = gen_opt_cube_naive(2*t+1, t)\r\n",
        "  if i%5 == 0:\r\n",
        "    print(f\"i: {i}\")\r\n",
        "  if check_necessary_conditions(cube, t, debug=False):\r\n",
        "    print(f\"i: {i}; WK są spełnione.\")\r\n",
        "    if check_sufficient_condition(cube, t, debug=False):\r\n",
        "      print(f\"i: {i}; WK są spełnione.\")\r\n",
        "      print(f\"Graf jest {t}-diagnozowalny\")\r\n",
        "      print(cube)\r\n",
        "      break"
      ],
      "execution_count": null,
      "outputs": [
        {
          "output_type": "stream",
          "text": [
            "i: 0\n",
            "i: 0; WK są spełnione.\n",
            "i: 1; WK są spełnione.\n",
            "i: 2; WK są spełnione.\n",
            "i: 3; WK są spełnione.\n",
            "i: 4; WK są spełnione.\n",
            "i: 5\n",
            "i: 5; WK są spełnione.\n",
            "i: 6; WK są spełnione.\n",
            "i: 7; WK są spełnione.\n",
            "i: 8; WK są spełnione.\n",
            "i: 9; WK są spełnione.\n",
            "i: 10\n",
            "i: 10; WK są spełnione.\n",
            "i: 11; WK są spełnione.\n",
            "i: 12; WK są spełnione.\n",
            "i: 13; WK są spełnione.\n",
            "i: 14; WK są spełnione.\n",
            "i: 15\n",
            "i: 15; WK są spełnione.\n",
            "i: 16; WK są spełnione.\n",
            "i: 17; WK są spełnione.\n",
            "i: 18; WK są spełnione.\n",
            "i: 19; WK są spełnione.\n",
            "i: 20\n",
            "i: 20; WK są spełnione.\n",
            "i: 21; WK są spełnione.\n",
            "i: 22; WK są spełnione.\n",
            "i: 23; WK są spełnione.\n",
            "i: 24; WK są spełnione.\n",
            "i: 25\n",
            "i: 25; WK są spełnione.\n",
            "i: 26; WK są spełnione.\n",
            "i: 27; WK są spełnione.\n",
            "i: 28; WK są spełnione.\n",
            "i: 29; WK są spełnione.\n",
            "i: 30\n",
            "i: 30; WK są spełnione.\n",
            "i: 31; WK są spełnione.\n",
            "i: 32; WK są spełnione.\n",
            "i: 33; WK są spełnione.\n",
            "i: 34; WK są spełnione.\n",
            "i: 35\n",
            "i: 35; WK są spełnione.\n",
            "i: 36; WK są spełnione.\n",
            "i: 37; WK są spełnione.\n",
            "i: 38; WK są spełnione.\n",
            "i: 39; WK są spełnione.\n",
            "i: 40\n",
            "i: 40; WK są spełnione.\n",
            "i: 41; WK są spełnione.\n",
            "i: 42; WK są spełnione.\n",
            "i: 43; WK są spełnione.\n",
            "i: 44; WK są spełnione.\n",
            "i: 45\n",
            "i: 45; WK są spełnione.\n",
            "i: 46; WK są spełnione.\n",
            "i: 47; WK są spełnione.\n",
            "i: 48; WK są spełnione.\n",
            "i: 49; WK są spełnione.\n",
            "i: 50\n",
            "i: 50; WK są spełnione.\n",
            "i: 51; WK są spełnione.\n",
            "i: 52; WK są spełnione.\n",
            "i: 53; WK są spełnione.\n",
            "i: 54; WK są spełnione.\n",
            "i: 55\n",
            "i: 55; WK są spełnione.\n",
            "i: 56; WK są spełnione.\n",
            "i: 57; WK są spełnione.\n",
            "i: 58; WK są spełnione.\n",
            "i: 59; WK są spełnione.\n",
            "i: 60\n",
            "i: 60; WK są spełnione.\n",
            "i: 61; WK są spełnione.\n",
            "i: 62; WK są spełnione.\n",
            "i: 63; WK są spełnione.\n",
            "i: 64; WK są spełnione.\n",
            "i: 65\n",
            "i: 65; WK są spełnione.\n",
            "i: 66; WK są spełnione.\n",
            "i: 67; WK są spełnione.\n",
            "i: 68; WK są spełnione.\n",
            "i: 69; WK są spełnione.\n",
            "i: 70\n",
            "i: 70; WK są spełnione.\n",
            "i: 71; WK są spełnione.\n",
            "i: 72; WK są spełnione.\n",
            "i: 73; WK są spełnione.\n",
            "i: 74; WK są spełnione.\n",
            "i: 75\n",
            "i: 75; WK są spełnione.\n",
            "i: 76; WK są spełnione.\n",
            "i: 77; WK są spełnione.\n",
            "i: 78; WK są spełnione.\n",
            "i: 79; WK są spełnione.\n",
            "i: 80\n",
            "i: 80; WK są spełnione.\n",
            "i: 81; WK są spełnione.\n",
            "i: 82; WK są spełnione.\n",
            "i: 83; WK są spełnione.\n",
            "i: 84; WK są spełnione.\n",
            "i: 85\n",
            "i: 85; WK są spełnione.\n",
            "i: 86; WK są spełnione.\n",
            "i: 87; WK są spełnione.\n",
            "i: 88; WK są spełnione.\n",
            "i: 89; WK są spełnione.\n",
            "i: 90\n",
            "i: 90; WK są spełnione.\n",
            "i: 91; WK są spełnione.\n",
            "i: 92; WK są spełnione.\n",
            "i: 93; WK są spełnione.\n",
            "i: 94; WK są spełnione.\n",
            "i: 95\n",
            "i: 95; WK są spełnione.\n",
            "i: 96; WK są spełnione.\n",
            "i: 97; WK są spełnione.\n",
            "i: 98; WK są spełnione.\n",
            "i: 99; WK są spełnione.\n"
          ],
          "name": "stdout"
        }
      ]
    },
    {
      "cell_type": "code",
      "metadata": {
        "id": "fslrdsMkDCqR"
      },
      "source": [
        "def tran_matrix_to_cube(tran_matrix):\r\n",
        "  # Ustawienie zmiennych\r\n",
        "  n = len(tran_matrix)\r\n",
        "  E = [i for i in range(n)]  # otagowanie wierzchołków\r\n",
        "  n_E = len(E)\r\n",
        "  # Określenie zbioru prób porównawczych\r\n",
        "  all_Psi = []\r\n",
        "  for e in range(n_E):\r\n",
        "    all_adj_nodes = it.combinations(np.delete(E, e), 2)  # lista możliwych wierzchołków przyległych do komparatora e\r\n",
        "    for adj_nodes in all_adj_nodes:\r\n",
        "      if tran_matrix[e][adj_nodes[0]] == 1 and tran_matrix[e][adj_nodes[1]] == 1:\r\n",
        "        all_Psi.append([e,adj_nodes])\r\n",
        "  for i in range(n):\r\n",
        "    all_adj_nodes = it.combinations(np.delete(E, e), 2)\r\n",
        "    for adj_nodes in all_adj_nodes:\r\n",
        "      if tran_matrix[e][adj_nodes[0]] == 1 and tran_matrix[e][adj_nodes[1]] == 1:\r\n",
        "        all_Psi.append([e,adj_nodes])\r\n",
        "  # Utworzenie sześcianu\r\n",
        "  cube = np.zeros((n,n,n), int)  # deklaracja sześcianu\r\n",
        "  for psi in all_Psi:\r\n",
        "    e_k = psi[0]\r\n",
        "    e_i = psi[1][0]\r\n",
        "    e_j = psi[1][1]\r\n",
        "    cube[e_k, e_i, e_j] = 1\r\n",
        "    cube[e_k, e_j, e_i] = 1\r\n",
        "  return cube\r\n",
        "\r\n",
        "def cube_to_tran_matrix(cube):\r\n",
        "  # Ustawienie zmiennych\r\n",
        "  n = len(cube)\r\n",
        "  tran_matrix = np.zeros((n,n), int)  # deklaracja macierzy przejść\r\n",
        "  for k in range(n):\r\n",
        "    for i in range(n):\r\n",
        "      for j in range(n):\r\n",
        "        if cube[k, i, j] == 1:\r\n",
        "          tran_matrix[k, i] = 1\r\n",
        "          tran_matrix[k, j] = 1\r\n",
        "  return tran_matrix"
      ],
      "execution_count": null,
      "outputs": []
    },
    {
      "cell_type": "code",
      "metadata": {
        "id": "2EIBng73DH3j",
        "colab": {
          "base_uri": "https://localhost:8080/"
        },
        "outputId": "18267a50-8736-4c6f-b56d-8ea29ec0eec7"
      },
      "source": [
        "print(cube)\r\n",
        "print('-----------------------')\r\n",
        "print(cube_to_tran_matrix(cube))\r\n",
        "print('-----------------------')\r\n",
        "print(tran_matrix_to_cube(cube_to_tran_matrix(cube)))"
      ],
      "execution_count": null,
      "outputs": [
        {
          "output_type": "stream",
          "text": [
            "[[[0 0 0 0 0 0 0]\n",
            "  [0 0 0 1 0 0 0]\n",
            "  [0 0 0 1 1 0 1]\n",
            "  [0 1 1 0 0 0 0]\n",
            "  [0 0 1 0 0 0 0]\n",
            "  [0 0 0 0 0 0 0]\n",
            "  [0 0 1 0 0 0 0]]\n",
            "\n",
            " [[0 0 0 0 1 0 1]\n",
            "  [0 0 0 0 0 0 0]\n",
            "  [0 0 0 0 0 0 0]\n",
            "  [0 0 0 0 0 1 0]\n",
            "  [1 0 0 0 0 1 0]\n",
            "  [0 0 0 1 1 0 0]\n",
            "  [1 0 0 0 0 0 0]]\n",
            "\n",
            " [[0 0 0 1 1 0 1]\n",
            "  [0 0 0 0 0 0 0]\n",
            "  [0 0 0 0 0 0 0]\n",
            "  [1 0 0 0 0 1 0]\n",
            "  [1 0 0 0 0 0 0]\n",
            "  [0 0 0 1 0 0 0]\n",
            "  [1 0 0 0 0 0 0]]\n",
            "\n",
            " [[0 1 0 0 1 0 0]\n",
            "  [1 0 1 0 0 0 0]\n",
            "  [0 1 0 0 0 0 1]\n",
            "  [0 0 0 0 0 0 0]\n",
            "  [1 0 0 0 0 0 0]\n",
            "  [0 0 0 0 0 0 0]\n",
            "  [0 0 1 0 0 0 0]]\n",
            "\n",
            " [[0 0 1 1 0 0 0]\n",
            "  [0 0 1 0 0 0 0]\n",
            "  [1 1 0 0 0 1 0]\n",
            "  [1 0 0 0 0 0 0]\n",
            "  [0 0 0 0 0 0 0]\n",
            "  [0 0 1 0 0 0 0]\n",
            "  [0 0 0 0 0 0 0]]\n",
            "\n",
            " [[0 1 1 0 0 0 0]\n",
            "  [1 0 0 0 0 0 1]\n",
            "  [1 0 0 1 0 0 0]\n",
            "  [0 0 1 0 0 0 0]\n",
            "  [0 0 0 0 0 0 0]\n",
            "  [0 0 0 0 0 0 0]\n",
            "  [0 1 0 0 0 0 0]]\n",
            "\n",
            " [[0 0 0 0 1 0 0]\n",
            "  [0 0 0 0 0 0 0]\n",
            "  [0 0 0 1 1 1 0]\n",
            "  [0 0 1 0 0 0 0]\n",
            "  [1 0 1 0 0 0 0]\n",
            "  [0 0 1 0 0 0 0]\n",
            "  [0 0 0 0 0 0 0]]]\n",
            "-----------------------\n",
            "[[0 1 1 1 1 0 1]\n",
            " [1 0 0 1 1 1 1]\n",
            " [1 0 0 1 1 1 1]\n",
            " [1 1 1 0 1 0 1]\n",
            " [1 1 1 1 0 1 0]\n",
            " [1 1 1 1 0 0 1]\n",
            " [1 0 1 1 1 1 0]]\n",
            "-----------------------\n",
            "[[[0 0 0 0 0 0 0]\n",
            "  [0 0 1 1 1 0 1]\n",
            "  [0 1 0 1 1 0 1]\n",
            "  [0 1 1 0 1 0 1]\n",
            "  [0 1 1 1 0 0 1]\n",
            "  [0 0 0 0 0 0 0]\n",
            "  [0 1 1 1 1 0 0]]\n",
            "\n",
            " [[0 0 0 1 1 1 1]\n",
            "  [0 0 0 0 0 0 0]\n",
            "  [0 0 0 0 0 0 0]\n",
            "  [1 0 0 0 1 1 1]\n",
            "  [1 0 0 1 0 1 1]\n",
            "  [1 0 0 1 1 0 1]\n",
            "  [1 0 0 1 1 1 0]]\n",
            "\n",
            " [[0 0 0 1 1 1 1]\n",
            "  [0 0 0 0 0 0 0]\n",
            "  [0 0 0 0 0 0 0]\n",
            "  [1 0 0 0 1 1 1]\n",
            "  [1 0 0 1 0 1 1]\n",
            "  [1 0 0 1 1 0 1]\n",
            "  [1 0 0 1 1 1 0]]\n",
            "\n",
            " [[0 1 1 0 1 0 1]\n",
            "  [1 0 1 0 1 0 1]\n",
            "  [1 1 0 0 1 0 1]\n",
            "  [0 0 0 0 0 0 0]\n",
            "  [1 1 1 0 0 0 1]\n",
            "  [0 0 0 0 0 0 0]\n",
            "  [1 1 1 0 1 0 0]]\n",
            "\n",
            " [[0 1 1 1 0 1 0]\n",
            "  [1 0 1 1 0 1 0]\n",
            "  [1 1 0 1 0 1 0]\n",
            "  [1 1 1 0 0 1 0]\n",
            "  [0 0 0 0 0 0 0]\n",
            "  [1 1 1 1 0 0 0]\n",
            "  [0 0 0 0 0 0 0]]\n",
            "\n",
            " [[0 1 1 1 0 0 1]\n",
            "  [1 0 1 1 0 0 1]\n",
            "  [1 1 0 1 0 0 1]\n",
            "  [1 1 1 0 0 0 1]\n",
            "  [0 0 0 0 0 0 0]\n",
            "  [0 0 0 0 0 0 0]\n",
            "  [1 1 1 1 0 0 0]]\n",
            "\n",
            " [[0 0 1 1 1 1 0]\n",
            "  [0 0 0 0 0 0 0]\n",
            "  [1 0 0 1 1 1 0]\n",
            "  [1 0 1 0 1 1 0]\n",
            "  [1 0 1 1 0 1 0]\n",
            "  [1 0 1 1 1 0 0]\n",
            "  [0 0 0 0 0 0 0]]]\n"
          ],
          "name": "stdout"
        }
      ]
    },
    {
      "cell_type": "code",
      "metadata": {
        "colab": {
          "base_uri": "https://localhost:8080/"
        },
        "id": "V-jE3VW4G74F",
        "outputId": "16883042-5eec-4898-db62-97fdcc1a582f"
      },
      "source": [
        "def print_uniq_comp_tests(cube):\n",
        "  uniq_comp_tests = set()\n",
        "  for test in get_comp_tests(cube):\n",
        "    uniq_comp_tests.add((test[0]+1, tuple(sorted((test[1][0]+1,test[1][1]+1)))))\n",
        "  print(f\"{'P':<4} {'K':<2} {'u':<2} {'v':<2}\")\n",
        "  for i, test in enumerate(sorted(uniq_comp_tests)):\n",
        "    print(f\"{str(i+1)+'.':<4} {test[0]:<2} {test[1][0]:<2} {test[1][1]:<2}\")\n",
        "\n",
        "print_uniq_comp_tests(cube)"
      ],
      "execution_count": null,
      "outputs": [
        {
          "output_type": "stream",
          "text": [
            "P    K  u  v \n",
            "1.   1  2  4 \n",
            "2.   1  2  5 \n",
            "3.   1  2  6 \n",
            "4.   1  2  7 \n",
            "5.   2  1  3 \n",
            "6.   2  3  5 \n",
            "7.   2  3  6 \n",
            "8.   2  3  7 \n",
            "9.   3  1  4 \n",
            "10.  3  2  4 \n",
            "11.  3  4  6 \n",
            "12.  3  4  7 \n",
            "13.  4  1  5 \n",
            "14.  4  2  5 \n",
            "15.  4  3  5 \n",
            "16.  4  5  7 \n",
            "17.  5  1  6 \n",
            "18.  5  2  6 \n",
            "19.  5  3  6 \n",
            "20.  5  4  6 \n",
            "21.  6  2  7 \n",
            "22.  6  3  7 \n",
            "23.  6  4  7 \n",
            "24.  6  5  7 \n",
            "25.  7  1  3 \n",
            "26.  7  1  4 \n",
            "27.  7  1  5 \n",
            "28.  7  1  6 \n"
          ],
          "name": "stdout"
        }
      ]
    }
  ]
}