{
  "nbformat": 4,
  "nbformat_minor": 0,
  "metadata": {
    "colab": {
      "name": "z1_tfidf.ipynb",
      "provenance": [],
      "collapsed_sections": [],
      "authorship_tag": "ABX9TyOqpp5CW14uEyzNgdIhjkF8",
      "include_colab_link": true
    },
    "kernelspec": {
      "name": "python3",
      "display_name": "Python 3"
    }
  },
  "cells": [
    {
      "cell_type": "markdown",
      "metadata": {
        "id": "view-in-github",
        "colab_type": "text"
      },
      "source": [
        "<a href=\"https://colab.research.google.com/github/nay-uku/studia/blob/main/Natural%20language%20processing/z1_tfidf.ipynb\" target=\"_parent\"><img src=\"https://colab.research.google.com/assets/colab-badge.svg\" alt=\"Open In Colab\"/></a>"
      ]
    },
    {
      "cell_type": "code",
      "metadata": {
        "id": "ND59e93_pX9z",
        "colab": {
          "base_uri": "https://localhost:8080/"
        },
        "outputId": "05c03840-554d-471a-b940-fbcfe7438653"
      },
      "source": [
        "# 1. Utworzyć korpus dokumentów na podstawie 5-10 książek pobranych ze strony Wolne Lektury: https://wolnelektury.pl/\n",
        "!curl https://wolnelektury.pl/media/book/txt/zwierzeta-ludzie-bogowie.txt > 'Zwierzeta, ludzie, bogowie.txt'\n",
        "!curl https://wolnelektury.pl/media/book/txt/zemsta.txt > Zemsta.txt\n",
        "!curl https://wolnelektury.pl/media/book/txt/platon-panstwo.txt > Panstwo.txt\n",
        "!curl https://wolnelektury.pl/media/book/txt/ksiega-dzungli.txt > 'Ksiega dzungli.txt'\n",
        "!curl https://wolnelektury.pl/media/book/txt/rozmyslania-marek-aureliusz.txt > Rozmyslania.txt"
      ],
      "execution_count": 1,
      "outputs": [
        {
          "output_type": "stream",
          "text": [
            "  % Total    % Received % Xferd  Average Speed   Time    Time     Time  Current\n",
            "                                 Dload  Upload   Total   Spent    Left  Speed\n",
            "100  540k  100  540k    0     0  1616k      0 --:--:-- --:--:-- --:--:-- 1616k\n",
            "  % Total    % Received % Xferd  Average Speed   Time    Time     Time  Current\n",
            "                                 Dload  Upload   Total   Spent    Left  Speed\n",
            "100   99k  100   99k    0     0   570k      0 --:--:-- --:--:-- --:--:--  570k\n",
            "  % Total    % Received % Xferd  Average Speed   Time    Time     Time  Current\n",
            "                                 Dload  Upload   Total   Spent    Left  Speed\n",
            "100  992k  100  992k    0     0  2804k      0 --:--:-- --:--:-- --:--:-- 2796k\n",
            "  % Total    % Received % Xferd  Average Speed   Time    Time     Time  Current\n",
            "                                 Dload  Upload   Total   Spent    Left  Speed\n",
            "100  314k  100  314k    0     0  1326k      0 --:--:-- --:--:-- --:--:-- 1326k\n",
            "  % Total    % Received % Xferd  Average Speed   Time    Time     Time  Current\n",
            "                                 Dload  Upload   Total   Spent    Left  Speed\n",
            "100  228k  100  228k    0     0  1120k      0 --:--:-- --:--:-- --:--:-- 1120k\n"
          ],
          "name": "stdout"
        }
      ]
    },
    {
      "cell_type": "code",
      "metadata": {
        "id": "BmEdlxq04C1i",
        "colab": {
          "base_uri": "https://localhost:8080/"
        },
        "outputId": "89023e47-21b6-4c6e-d088-b0c8b9ed8e82"
      },
      "source": [
        "import glob\n",
        "books = glob.glob('*.txt')\n",
        "print(books)"
      ],
      "execution_count": 2,
      "outputs": [
        {
          "output_type": "stream",
          "text": [
            "['Panstwo.txt', 'Rozmyslania.txt', 'Zemsta.txt', 'Zwierzeta, ludzie, bogowie.txt', 'Ksiega dzungli.txt']\n"
          ],
          "name": "stdout"
        }
      ]
    },
    {
      "cell_type": "code",
      "metadata": {
        "id": "Oh1d8M0Q430L"
      },
      "source": [
        "import nltk\n",
        "corpus = []\n",
        "for i in range(len(books)):\n",
        "  with open(books[i],'r') as f:\n",
        "    raw=f.read()\n",
        "    corpus.append(raw)\n",
        "#corpus"
      ],
      "execution_count": 3,
      "outputs": []
    },
    {
      "cell_type": "code",
      "metadata": {
        "id": "KhYoS8JzOBbS",
        "colab": {
          "base_uri": "https://localhost:8080/"
        },
        "outputId": "0a1da9d0-47c5-43dd-a239-24367148f6c6"
      },
      "source": [
        "# Ściągnięcie polskiej stoplisty\n",
        "!curl https://raw.githubusercontent.com/stopwords-iso/stopwords-pl/master/stopwords-pl.txt > polish_stopwords"
      ],
      "execution_count": 4,
      "outputs": [
        {
          "output_type": "stream",
          "text": [
            "  % Total    % Received % Xferd  Average Speed   Time    Time     Time  Current\n",
            "                                 Dload  Upload   Total   Spent    Left  Speed\n",
            "\r  0     0    0     0    0     0      0      0 --:--:-- --:--:-- --:--:--     0\r100  1838  100  1838    0     0  10211      0 --:--:-- --:--:-- --:--:-- 10211\n"
          ],
          "name": "stdout"
        }
      ]
    },
    {
      "cell_type": "code",
      "metadata": {
        "id": "YONd6tStza4L",
        "colab": {
          "base_uri": "https://localhost:8080/",
          "height": 1000
        },
        "outputId": "128190dc-b46e-4e46-cfd0-1f72e39a22b2"
      },
      "source": [
        "# 2. Dla każdej z pozycji zwizualizować częstość występowania tokenów i skomentować zgodność z prawem Zipfa. Jako tokeny przyjmujemy tylko tokeny zbudowane wyłącznie z liter.\n",
        "# Zastosować stoplistę  dla języka polskiego.\n",
        "\n",
        "# Załadowanie polskiej stoplisty\n",
        "with open('polish_stopwords', 'r') as f:\n",
        "    sw = f.read().split()\n",
        "\n",
        "tokens = [[] for i in range(len(corpus))]\n",
        "filtered_tokens = [[] for i in range(len(corpus))]\n",
        "for i in range(len(corpus)):\n",
        "  tokens[i] = [t for t in corpus[i].split()]\n",
        "  # lower() - Zamiana wszystkich tokenów na małą czcionkę.\n",
        "  # Usuwa to duplikaty tokenów różniących się wielkością np. a i A\n",
        "  tokens[i] = [word.lower() for word in tokens[i]] \n",
        "  # isalpha() - tokeny wyłącznie zbudowane z liter \n",
        "  filtered_tokens[i] = [w for w in tokens[i] if not w in sw and w.isalpha()] \n",
        "  freq = nltk.FreqDist(filtered_tokens[i])\n",
        "  freq.plot(20,cumulative=False,title=books[i][:-4]) # tytuł bez .txt\n",
        "  # Prawo Zipha\n",
        "  print(\"r*f:\")\n",
        "  for i in range(50):\n",
        "    print(freq.most_common(50)[i][1]*(i+1), end=' ')"
      ],
      "execution_count": 5,
      "outputs": [
        {
          "output_type": "display_data",
          "data": {
            "image/png": "[encoded data removed]",
            "text/plain": [
              "<Figure size 432x288 with 1 Axes>"
            ]
          },
          "metadata": {
            "tags": [],
            "needs_background": "light"
          }
        },
        {
          "output_type": "stream",
          "text": [
            "r*f:\n",
            "361 516 678 896 1045 1032 1183 1296 1323 1460 1518 1500 1612 1722 1740 1840 1921 2034 2128 2140 2184 2266 2323 2400 2400 2496 2592 2604 2697 2760 2852 2880 2970 3026 3045 3132 3034 3040 3081 3080 3075 3150 3182 3212 3285 3312 3384 3408 3430 3450 "
          ],
          "name": "stdout"
        },
        {
          "output_type": "display_data",
          "data": {
            "image/png": "[encoded data removed]",
            "text/plain": [
              "<Figure size 432x288 with 1 Axes>"
            ]
          },
          "metadata": {
            "tags": [],
            "needs_background": "light"
          }
        },
        {
          "output_type": "stream",
          "text": [
            "r*f:\n",
            "63 112 150 200 245 276 308 344 378 400 440 480 494 504 525 560 561 576 608 620 651 682 713 672 650 676 675 700 696 720 744 736 759 748 770 792 814 836 858 880 861 882 903 924 945 920 893 912 931 950 "
          ],
          "name": "stdout"
        },
        {
          "output_type": "display_data",
          "data": {
            "image/png": "[encoded data removed]",
            "text/plain": [
              "<Figure size 432x288 with 1 Axes>"
            ]
          },
          "metadata": {
            "tags": [],
            "needs_background": "light"
          }
        },
        {
          "output_type": "stream",
          "text": [
            "r*f:\n",
            "249 340 468 512 335 402 357 312 342 300 297 324 351 294 240 224 238 252 247 260 273 264 276 288 300 312 297 308 290 300 310 320 330 340 350 324 333 342 351 320 328 336 344 352 360 368 376 336 343 350 "
          ],
          "name": "stdout"
        },
        {
          "output_type": "display_data",
          "data": {
            "image/png": "[encoded data removed]",
            "text/plain": [
              "<Figure size 432x288 with 1 Axes>"
            ]
          },
          "metadata": {
            "tags": [],
            "needs_background": "light"
          }
        },
        {
          "output_type": "stream",
          "text": [
            "r*f:\n",
            "79 138 207 272 315 330 378 432 477 520 572 612 650 700 705 752 782 810 817 860 903 902 920 960 975 1014 1053 1064 1073 1110 1147 1184 1188 1224 1260 1260 1295 1292 1326 1360 1394 1386 1376 1408 1440 1472 1504 1488 1519 1550 "
          ],
          "name": "stdout"
        },
        {
          "output_type": "display_data",
          "data": {
            "image/png": "[encoded data removed]",
            "text/plain": [
              "<Figure size 432x288 with 1 Axes>"
            ]
          },
          "metadata": {
            "tags": [],
            "needs_background": "light"
          }
        },
        {
          "output_type": "stream",
          "text": [
            "r*f:\n",
            "114 122 180 236 295 330 357 400 450 480 506 540 559 588 600 624 646 666 703 720 756 792 805 840 800 754 756 784 812 810 806 832 858 884 910 900 925 950 975 1000 1025 1008 1032 1056 1035 1058 1081 1056 1078 1100 "
          ],
          "name": "stdout"
        }
      ]
    },
    {
      "cell_type": "markdown",
      "metadata": {
        "id": "htOhgB7Kgb2N"
      },
      "source": [
        "Prawo Zipfa opisuje zasadę częstotliwości użycia w dowolnym języku poszczególnych wyrazów. Iloczyn częstotliwości i rangi powinien być wielkością stałą.\n",
        "\n",
        "\n",
        "Równanie prawa Zipfa:\n",
        "\n",
        "    r × f = constans\n",
        "\n",
        "r - ranga wyrazu w tekście lub grupie tekstów (1,2,3...)\n",
        "f - częstotliwość jego występowania  \n",
        "\n",
        "Dla załączonych książek obliczono powyższy iloczyn dla 50 najczęściej występujących słów w każdej książce. Widać, że dla wybranych książek prawo Zipha zachodzi tylko w \"Zemście\", gdzie każdy iloczyn wynosi około 300.\n",
        "\n",
        "Prawo Zipfa nie zachodzi dla pozostałych czterech książek. Może to wynikać z tego, że \"Zemsta\" jest polską książką, a pozostałe są tłumaczeniami."
      ]
    },
    {
      "cell_type": "code",
      "metadata": {
        "id": "LaNyfR7yvysX"
      },
      "source": [
        "# 3. Na podstawie korpusu zbudowanego z 5 dowolnych książek ściągniętych ze strony\n",
        "# Wolne Lektury zbudować macierz tfidf.  \n",
        "corpus = []\n",
        "# korpus zbudowany z przefiltoriwanych tokenów:\n",
        "# lowercase, brak powtórzeń i słów z stoplisty, tylko wyrazy\n",
        "for d in filtered_tokens:\n",
        "  d = list(dict.fromkeys(d)) # wyrzucenie duplikatów\n",
        "  corpus.append(' '.join(d))\n",
        "#corpus"
      ],
      "execution_count": 6,
      "outputs": []
    },
    {
      "cell_type": "code",
      "metadata": {
        "id": "HshzWA1Zza-u",
        "colab": {
          "base_uri": "https://localhost:8080/",
          "height": 308
        },
        "outputId": "2db3f2ca-85d4-486b-9a6c-17dbdc2a136a"
      },
      "source": [
        "import nltk\n",
        "import string\n",
        "import os\n",
        "\n",
        "from sklearn.feature_extraction.text import TfidfVectorizer\n",
        "tfidf = TfidfVectorizer(stop_words=sw,smooth_idf=False)\n",
        "tfs = tfidf.fit_transform(corpus)\n",
        "# tfs.todense()\n",
        "# tfs.toarray()\n",
        "# tfidf.get_feature_names()\n",
        "import pandas as pd\n",
        "tfidf_pd_matrix = pd.DataFrame(tfs.toarray(),columns=tfidf.get_feature_names(),\n",
        "                               index=[book[:-4] for book in books])\n",
        "tfidf_pd_matrix"
      ],
      "execution_count": 7,
      "outputs": [
        {
          "output_type": "execute_result",
          "data": {
            "text/html": [
              "<div>\n",
              "<style scoped>\n",
              "    .dataframe tbody tr th:only-of-type {\n",
              "        vertical-align: middle;\n",
              "    }\n",
              "\n",
              "    .dataframe tbody tr th {\n",
              "        vertical-align: top;\n",
              "    }\n",
              "\n",
              "    .dataframe thead th {\n",
              "        text-align: right;\n",
              "    }\n",
              "</style>\n",
              "<table border=\"1\" class=\"dataframe\">\n",
              "  <thead>\n",
              "    <tr style=\"text-align: right;\">\n",
              "      <th></th>\n",
              "      <th>aaa</th>\n",
              "      <th>abakańskie</th>\n",
              "      <th>abdery</th>\n",
              "      <th>absolutne</th>\n",
              "      <th>absolutnie</th>\n",
              "      <th>absolutną</th>\n",
              "      <th>abstrakcje</th>\n",
              "      <th>abstynentów</th>\n",
              "      <th>abym</th>\n",
              "      <th>abyś</th>\n",
              "      <th>abyście</th>\n",
              "      <th>abyśmy</th>\n",
              "      <th>achajowie</th>\n",
              "      <th>achilles</th>\n",
              "      <th>achillesa</th>\n",
              "      <th>achillesowi</th>\n",
              "      <th>aczyńskiej</th>\n",
              "      <th>adam</th>\n",
              "      <th>adejmancie</th>\n",
              "      <th>adejmant</th>\n",
              "      <th>adejmanta</th>\n",
              "      <th>adejmantos</th>\n",
              "      <th>adejmantowi</th>\n",
              "      <th>adiutancie</th>\n",
              "      <th>adiutant</th>\n",
              "      <th>adiutanta</th>\n",
              "      <th>adiutantami</th>\n",
              "      <th>adiutantem</th>\n",
              "      <th>administracja</th>\n",
              "      <th>administracji</th>\n",
              "      <th>administracją</th>\n",
              "      <th>administrację</th>\n",
              "      <th>administracyjne</th>\n",
              "      <th>administracyjnych</th>\n",
              "      <th>administratorowi</th>\n",
              "      <th>adrasteja</th>\n",
              "      <th>adresem</th>\n",
              "      <th>adresy</th>\n",
              "      <th>aeronautycznym</th>\n",
              "      <th>afekt</th>\n",
              "      <th>...</th>\n",
              "      <th>żółtaczkę</th>\n",
              "      <th>żółte</th>\n",
              "      <th>żółtego</th>\n",
              "      <th>żółtej</th>\n",
              "      <th>żółtoszarych</th>\n",
              "      <th>żółty</th>\n",
              "      <th>żółtych</th>\n",
              "      <th>żółtym</th>\n",
              "      <th>żółtymi</th>\n",
              "      <th>żółtą</th>\n",
              "      <th>żółwie</th>\n",
              "      <th>żółć</th>\n",
              "      <th>żąda</th>\n",
              "      <th>żądaj</th>\n",
              "      <th>żądają</th>\n",
              "      <th>żądając</th>\n",
              "      <th>żądali</th>\n",
              "      <th>żądam</th>\n",
              "      <th>żądane</th>\n",
              "      <th>żądania</th>\n",
              "      <th>żądanie</th>\n",
              "      <th>żądaniom</th>\n",
              "      <th>żądać</th>\n",
              "      <th>żądał</th>\n",
              "      <th>żądała</th>\n",
              "      <th>żądało</th>\n",
              "      <th>żądeł</th>\n",
              "      <th>żądny</th>\n",
              "      <th>żądnym</th>\n",
              "      <th>żądz</th>\n",
              "      <th>żądza</th>\n",
              "      <th>żądzami</th>\n",
              "      <th>żądze</th>\n",
              "      <th>żądzom</th>\n",
              "      <th>żądzy</th>\n",
              "      <th>żądzą</th>\n",
              "      <th>żądzę</th>\n",
              "      <th>żądła</th>\n",
              "      <th>żądłami</th>\n",
              "      <th>żądło</th>\n",
              "    </tr>\n",
              "  </thead>\n",
              "  <tbody>\n",
              "    <tr>\n",
              "      <th>Panstwo</th>\n",
              "      <td>0.000000</td>\n",
              "      <td>0.000000</td>\n",
              "      <td>0.009457</td>\n",
              "      <td>0.009457</td>\n",
              "      <td>0.006945</td>\n",
              "      <td>0.009457</td>\n",
              "      <td>0.009457</td>\n",
              "      <td>0.009457</td>\n",
              "      <td>0.004433</td>\n",
              "      <td>0.005475</td>\n",
              "      <td>0.000000</td>\n",
              "      <td>0.005475</td>\n",
              "      <td>0.009457</td>\n",
              "      <td>0.009457</td>\n",
              "      <td>0.009457</td>\n",
              "      <td>0.009457</td>\n",
              "      <td>0.000000</td>\n",
              "      <td>0.009457</td>\n",
              "      <td>0.009457</td>\n",
              "      <td>0.009457</td>\n",
              "      <td>0.009457</td>\n",
              "      <td>0.009457</td>\n",
              "      <td>0.009457</td>\n",
              "      <td>0.000000</td>\n",
              "      <td>0.000000</td>\n",
              "      <td>0.000000</td>\n",
              "      <td>0.000000</td>\n",
              "      <td>0.000000</td>\n",
              "      <td>0.000000</td>\n",
              "      <td>0.006945</td>\n",
              "      <td>0.000000</td>\n",
              "      <td>0.006945</td>\n",
              "      <td>0.000000</td>\n",
              "      <td>0.000000</td>\n",
              "      <td>0.000000</td>\n",
              "      <td>0.009457</td>\n",
              "      <td>0.009457</td>\n",
              "      <td>0.006945</td>\n",
              "      <td>0.000000</td>\n",
              "      <td>0.00000</td>\n",
              "      <td>...</td>\n",
              "      <td>0.000000</td>\n",
              "      <td>0.006945</td>\n",
              "      <td>0.000000</td>\n",
              "      <td>0.000000</td>\n",
              "      <td>0.000000</td>\n",
              "      <td>0.000000</td>\n",
              "      <td>0.000000</td>\n",
              "      <td>0.000000</td>\n",
              "      <td>0.000000</td>\n",
              "      <td>0.000000</td>\n",
              "      <td>0.000000</td>\n",
              "      <td>0.000000</td>\n",
              "      <td>0.004433</td>\n",
              "      <td>0.000000</td>\n",
              "      <td>0.006945</td>\n",
              "      <td>0.000000</td>\n",
              "      <td>0.000000</td>\n",
              "      <td>0.000000</td>\n",
              "      <td>0.000000</td>\n",
              "      <td>0.000000</td>\n",
              "      <td>0.006945</td>\n",
              "      <td>0.000000</td>\n",
              "      <td>0.000000</td>\n",
              "      <td>0.005475</td>\n",
              "      <td>0.000000</td>\n",
              "      <td>0.000000</td>\n",
              "      <td>0.009457</td>\n",
              "      <td>0.005475</td>\n",
              "      <td>0.000000</td>\n",
              "      <td>0.009457</td>\n",
              "      <td>0.003624</td>\n",
              "      <td>0.009457</td>\n",
              "      <td>0.009457</td>\n",
              "      <td>0.009457</td>\n",
              "      <td>0.006945</td>\n",
              "      <td>0.006945</td>\n",
              "      <td>0.009457</td>\n",
              "      <td>0.006945</td>\n",
              "      <td>0.009457</td>\n",
              "      <td>0.009457</td>\n",
              "    </tr>\n",
              "    <tr>\n",
              "      <th>Rozmyslania</th>\n",
              "      <td>0.000000</td>\n",
              "      <td>0.000000</td>\n",
              "      <td>0.000000</td>\n",
              "      <td>0.000000</td>\n",
              "      <td>0.000000</td>\n",
              "      <td>0.000000</td>\n",
              "      <td>0.000000</td>\n",
              "      <td>0.000000</td>\n",
              "      <td>0.008063</td>\n",
              "      <td>0.009959</td>\n",
              "      <td>0.000000</td>\n",
              "      <td>0.009959</td>\n",
              "      <td>0.000000</td>\n",
              "      <td>0.000000</td>\n",
              "      <td>0.000000</td>\n",
              "      <td>0.000000</td>\n",
              "      <td>0.000000</td>\n",
              "      <td>0.000000</td>\n",
              "      <td>0.000000</td>\n",
              "      <td>0.000000</td>\n",
              "      <td>0.000000</td>\n",
              "      <td>0.000000</td>\n",
              "      <td>0.000000</td>\n",
              "      <td>0.000000</td>\n",
              "      <td>0.000000</td>\n",
              "      <td>0.000000</td>\n",
              "      <td>0.000000</td>\n",
              "      <td>0.000000</td>\n",
              "      <td>0.000000</td>\n",
              "      <td>0.000000</td>\n",
              "      <td>0.000000</td>\n",
              "      <td>0.000000</td>\n",
              "      <td>0.000000</td>\n",
              "      <td>0.000000</td>\n",
              "      <td>0.000000</td>\n",
              "      <td>0.000000</td>\n",
              "      <td>0.000000</td>\n",
              "      <td>0.000000</td>\n",
              "      <td>0.000000</td>\n",
              "      <td>0.00000</td>\n",
              "      <td>...</td>\n",
              "      <td>0.017201</td>\n",
              "      <td>0.000000</td>\n",
              "      <td>0.000000</td>\n",
              "      <td>0.000000</td>\n",
              "      <td>0.000000</td>\n",
              "      <td>0.000000</td>\n",
              "      <td>0.000000</td>\n",
              "      <td>0.000000</td>\n",
              "      <td>0.000000</td>\n",
              "      <td>0.000000</td>\n",
              "      <td>0.000000</td>\n",
              "      <td>0.017201</td>\n",
              "      <td>0.008063</td>\n",
              "      <td>0.017201</td>\n",
              "      <td>0.012632</td>\n",
              "      <td>0.000000</td>\n",
              "      <td>0.017201</td>\n",
              "      <td>0.000000</td>\n",
              "      <td>0.000000</td>\n",
              "      <td>0.000000</td>\n",
              "      <td>0.000000</td>\n",
              "      <td>0.000000</td>\n",
              "      <td>0.000000</td>\n",
              "      <td>0.009959</td>\n",
              "      <td>0.000000</td>\n",
              "      <td>0.017201</td>\n",
              "      <td>0.000000</td>\n",
              "      <td>0.000000</td>\n",
              "      <td>0.000000</td>\n",
              "      <td>0.000000</td>\n",
              "      <td>0.006592</td>\n",
              "      <td>0.000000</td>\n",
              "      <td>0.000000</td>\n",
              "      <td>0.000000</td>\n",
              "      <td>0.012632</td>\n",
              "      <td>0.012632</td>\n",
              "      <td>0.000000</td>\n",
              "      <td>0.000000</td>\n",
              "      <td>0.000000</td>\n",
              "      <td>0.000000</td>\n",
              "    </tr>\n",
              "    <tr>\n",
              "      <th>Zemsta</th>\n",
              "      <td>0.000000</td>\n",
              "      <td>0.000000</td>\n",
              "      <td>0.000000</td>\n",
              "      <td>0.000000</td>\n",
              "      <td>0.000000</td>\n",
              "      <td>0.000000</td>\n",
              "      <td>0.000000</td>\n",
              "      <td>0.000000</td>\n",
              "      <td>0.012075</td>\n",
              "      <td>0.014915</td>\n",
              "      <td>0.000000</td>\n",
              "      <td>0.000000</td>\n",
              "      <td>0.000000</td>\n",
              "      <td>0.000000</td>\n",
              "      <td>0.000000</td>\n",
              "      <td>0.000000</td>\n",
              "      <td>0.000000</td>\n",
              "      <td>0.000000</td>\n",
              "      <td>0.000000</td>\n",
              "      <td>0.000000</td>\n",
              "      <td>0.000000</td>\n",
              "      <td>0.000000</td>\n",
              "      <td>0.000000</td>\n",
              "      <td>0.000000</td>\n",
              "      <td>0.000000</td>\n",
              "      <td>0.000000</td>\n",
              "      <td>0.000000</td>\n",
              "      <td>0.000000</td>\n",
              "      <td>0.000000</td>\n",
              "      <td>0.000000</td>\n",
              "      <td>0.000000</td>\n",
              "      <td>0.000000</td>\n",
              "      <td>0.000000</td>\n",
              "      <td>0.000000</td>\n",
              "      <td>0.000000</td>\n",
              "      <td>0.000000</td>\n",
              "      <td>0.000000</td>\n",
              "      <td>0.000000</td>\n",
              "      <td>0.000000</td>\n",
              "      <td>0.02576</td>\n",
              "      <td>...</td>\n",
              "      <td>0.000000</td>\n",
              "      <td>0.000000</td>\n",
              "      <td>0.000000</td>\n",
              "      <td>0.000000</td>\n",
              "      <td>0.000000</td>\n",
              "      <td>0.000000</td>\n",
              "      <td>0.000000</td>\n",
              "      <td>0.000000</td>\n",
              "      <td>0.000000</td>\n",
              "      <td>0.000000</td>\n",
              "      <td>0.000000</td>\n",
              "      <td>0.000000</td>\n",
              "      <td>0.012075</td>\n",
              "      <td>0.000000</td>\n",
              "      <td>0.000000</td>\n",
              "      <td>0.000000</td>\n",
              "      <td>0.000000</td>\n",
              "      <td>0.018917</td>\n",
              "      <td>0.000000</td>\n",
              "      <td>0.018917</td>\n",
              "      <td>0.018917</td>\n",
              "      <td>0.000000</td>\n",
              "      <td>0.000000</td>\n",
              "      <td>0.000000</td>\n",
              "      <td>0.000000</td>\n",
              "      <td>0.000000</td>\n",
              "      <td>0.000000</td>\n",
              "      <td>0.000000</td>\n",
              "      <td>0.000000</td>\n",
              "      <td>0.000000</td>\n",
              "      <td>0.009872</td>\n",
              "      <td>0.000000</td>\n",
              "      <td>0.000000</td>\n",
              "      <td>0.000000</td>\n",
              "      <td>0.000000</td>\n",
              "      <td>0.000000</td>\n",
              "      <td>0.000000</td>\n",
              "      <td>0.000000</td>\n",
              "      <td>0.000000</td>\n",
              "      <td>0.000000</td>\n",
              "    </tr>\n",
              "    <tr>\n",
              "      <th>Zwierzeta, ludzie, bogowie</th>\n",
              "      <td>0.000000</td>\n",
              "      <td>0.009274</td>\n",
              "      <td>0.000000</td>\n",
              "      <td>0.000000</td>\n",
              "      <td>0.006810</td>\n",
              "      <td>0.000000</td>\n",
              "      <td>0.000000</td>\n",
              "      <td>0.000000</td>\n",
              "      <td>0.004347</td>\n",
              "      <td>0.000000</td>\n",
              "      <td>0.000000</td>\n",
              "      <td>0.005369</td>\n",
              "      <td>0.000000</td>\n",
              "      <td>0.000000</td>\n",
              "      <td>0.000000</td>\n",
              "      <td>0.000000</td>\n",
              "      <td>0.009274</td>\n",
              "      <td>0.000000</td>\n",
              "      <td>0.000000</td>\n",
              "      <td>0.000000</td>\n",
              "      <td>0.000000</td>\n",
              "      <td>0.000000</td>\n",
              "      <td>0.000000</td>\n",
              "      <td>0.009274</td>\n",
              "      <td>0.009274</td>\n",
              "      <td>0.009274</td>\n",
              "      <td>0.009274</td>\n",
              "      <td>0.009274</td>\n",
              "      <td>0.009274</td>\n",
              "      <td>0.006810</td>\n",
              "      <td>0.009274</td>\n",
              "      <td>0.006810</td>\n",
              "      <td>0.009274</td>\n",
              "      <td>0.009274</td>\n",
              "      <td>0.009274</td>\n",
              "      <td>0.000000</td>\n",
              "      <td>0.000000</td>\n",
              "      <td>0.006810</td>\n",
              "      <td>0.009274</td>\n",
              "      <td>0.00000</td>\n",
              "      <td>...</td>\n",
              "      <td>0.000000</td>\n",
              "      <td>0.006810</td>\n",
              "      <td>0.009274</td>\n",
              "      <td>0.009274</td>\n",
              "      <td>0.009274</td>\n",
              "      <td>0.009274</td>\n",
              "      <td>0.009274</td>\n",
              "      <td>0.009274</td>\n",
              "      <td>0.009274</td>\n",
              "      <td>0.009274</td>\n",
              "      <td>0.009274</td>\n",
              "      <td>0.000000</td>\n",
              "      <td>0.004347</td>\n",
              "      <td>0.000000</td>\n",
              "      <td>0.000000</td>\n",
              "      <td>0.006810</td>\n",
              "      <td>0.000000</td>\n",
              "      <td>0.000000</td>\n",
              "      <td>0.009274</td>\n",
              "      <td>0.006810</td>\n",
              "      <td>0.000000</td>\n",
              "      <td>0.009274</td>\n",
              "      <td>0.009274</td>\n",
              "      <td>0.005369</td>\n",
              "      <td>0.009274</td>\n",
              "      <td>0.000000</td>\n",
              "      <td>0.000000</td>\n",
              "      <td>0.005369</td>\n",
              "      <td>0.009274</td>\n",
              "      <td>0.000000</td>\n",
              "      <td>0.003554</td>\n",
              "      <td>0.000000</td>\n",
              "      <td>0.000000</td>\n",
              "      <td>0.000000</td>\n",
              "      <td>0.000000</td>\n",
              "      <td>0.000000</td>\n",
              "      <td>0.000000</td>\n",
              "      <td>0.000000</td>\n",
              "      <td>0.000000</td>\n",
              "      <td>0.000000</td>\n",
              "    </tr>\n",
              "    <tr>\n",
              "      <th>Ksiega dzungli</th>\n",
              "      <td>0.012102</td>\n",
              "      <td>0.000000</td>\n",
              "      <td>0.000000</td>\n",
              "      <td>0.000000</td>\n",
              "      <td>0.000000</td>\n",
              "      <td>0.000000</td>\n",
              "      <td>0.000000</td>\n",
              "      <td>0.000000</td>\n",
              "      <td>0.000000</td>\n",
              "      <td>0.000000</td>\n",
              "      <td>0.012102</td>\n",
              "      <td>0.000000</td>\n",
              "      <td>0.000000</td>\n",
              "      <td>0.000000</td>\n",
              "      <td>0.000000</td>\n",
              "      <td>0.000000</td>\n",
              "      <td>0.000000</td>\n",
              "      <td>0.000000</td>\n",
              "      <td>0.000000</td>\n",
              "      <td>0.000000</td>\n",
              "      <td>0.000000</td>\n",
              "      <td>0.000000</td>\n",
              "      <td>0.000000</td>\n",
              "      <td>0.000000</td>\n",
              "      <td>0.000000</td>\n",
              "      <td>0.000000</td>\n",
              "      <td>0.000000</td>\n",
              "      <td>0.000000</td>\n",
              "      <td>0.000000</td>\n",
              "      <td>0.000000</td>\n",
              "      <td>0.000000</td>\n",
              "      <td>0.000000</td>\n",
              "      <td>0.000000</td>\n",
              "      <td>0.000000</td>\n",
              "      <td>0.000000</td>\n",
              "      <td>0.000000</td>\n",
              "      <td>0.000000</td>\n",
              "      <td>0.000000</td>\n",
              "      <td>0.000000</td>\n",
              "      <td>0.00000</td>\n",
              "      <td>...</td>\n",
              "      <td>0.000000</td>\n",
              "      <td>0.000000</td>\n",
              "      <td>0.000000</td>\n",
              "      <td>0.000000</td>\n",
              "      <td>0.000000</td>\n",
              "      <td>0.000000</td>\n",
              "      <td>0.000000</td>\n",
              "      <td>0.000000</td>\n",
              "      <td>0.000000</td>\n",
              "      <td>0.000000</td>\n",
              "      <td>0.000000</td>\n",
              "      <td>0.000000</td>\n",
              "      <td>0.000000</td>\n",
              "      <td>0.000000</td>\n",
              "      <td>0.000000</td>\n",
              "      <td>0.008887</td>\n",
              "      <td>0.000000</td>\n",
              "      <td>0.008887</td>\n",
              "      <td>0.000000</td>\n",
              "      <td>0.000000</td>\n",
              "      <td>0.000000</td>\n",
              "      <td>0.000000</td>\n",
              "      <td>0.000000</td>\n",
              "      <td>0.000000</td>\n",
              "      <td>0.000000</td>\n",
              "      <td>0.000000</td>\n",
              "      <td>0.000000</td>\n",
              "      <td>0.007007</td>\n",
              "      <td>0.000000</td>\n",
              "      <td>0.000000</td>\n",
              "      <td>0.004638</td>\n",
              "      <td>0.000000</td>\n",
              "      <td>0.000000</td>\n",
              "      <td>0.000000</td>\n",
              "      <td>0.000000</td>\n",
              "      <td>0.000000</td>\n",
              "      <td>0.000000</td>\n",
              "      <td>0.008887</td>\n",
              "      <td>0.000000</td>\n",
              "      <td>0.000000</td>\n",
              "    </tr>\n",
              "  </tbody>\n",
              "</table>\n",
              "<p>5 rows × 34297 columns</p>\n",
              "</div>"
            ],
            "text/plain": [
              "                                 aaa  abakańskie  ...   żądłami     żądło\n",
              "Panstwo                     0.000000    0.000000  ...  0.009457  0.009457\n",
              "Rozmyslania                 0.000000    0.000000  ...  0.000000  0.000000\n",
              "Zemsta                      0.000000    0.000000  ...  0.000000  0.000000\n",
              "Zwierzeta, ludzie, bogowie  0.000000    0.009274  ...  0.000000  0.000000\n",
              "Ksiega dzungli              0.012102    0.000000  ...  0.000000  0.000000\n",
              "\n",
              "[5 rows x 34297 columns]"
            ]
          },
          "metadata": {
            "tags": []
          },
          "execution_count": 7
        }
      ]
    },
    {
      "cell_type": "code",
      "metadata": {
        "id": "Be1_ef9fzbGc",
        "colab": {
          "base_uri": "https://localhost:8080/",
          "height": 206
        },
        "outputId": "0fc342a2-8c66-4cbe-a091-282194fb0302"
      },
      "source": [
        "# 4. W oparciu o podobieństwo kosinusowe zbudować macierz odległości dokumentów. \n",
        "from sklearn.metrics.pairwise import cosine_similarity\n",
        "# print(cosine_similarity(tfs[0], tfs)) # dla jednego wiersza\n",
        "# print(cosine_similarity(tfs[1], tfs))\n",
        "cs_matrix = cosine_similarity(tfs, tfs)\n",
        "cs_matrix = pd.DataFrame(cs_matrix,columns=[book[:-4] for book in books],index=[book[:-4] for book in books])\n",
        "cs_matrix"
      ],
      "execution_count": 8,
      "outputs": [
        {
          "output_type": "execute_result",
          "data": {
            "text/html": [
              "<div>\n",
              "<style scoped>\n",
              "    .dataframe tbody tr th:only-of-type {\n",
              "        vertical-align: middle;\n",
              "    }\n",
              "\n",
              "    .dataframe tbody tr th {\n",
              "        vertical-align: top;\n",
              "    }\n",
              "\n",
              "    .dataframe thead th {\n",
              "        text-align: right;\n",
              "    }\n",
              "</style>\n",
              "<table border=\"1\" class=\"dataframe\">\n",
              "  <thead>\n",
              "    <tr style=\"text-align: right;\">\n",
              "      <th></th>\n",
              "      <th>Panstwo</th>\n",
              "      <th>Rozmyslania</th>\n",
              "      <th>Zemsta</th>\n",
              "      <th>Zwierzeta, ludzie, bogowie</th>\n",
              "      <th>Ksiega dzungli</th>\n",
              "    </tr>\n",
              "  </thead>\n",
              "  <tbody>\n",
              "    <tr>\n",
              "      <th>Panstwo</th>\n",
              "      <td>1.000000</td>\n",
              "      <td>0.149584</td>\n",
              "      <td>0.067082</td>\n",
              "      <td>0.125177</td>\n",
              "      <td>0.115722</td>\n",
              "    </tr>\n",
              "    <tr>\n",
              "      <th>Rozmyslania</th>\n",
              "      <td>0.149584</td>\n",
              "      <td>1.000000</td>\n",
              "      <td>0.067839</td>\n",
              "      <td>0.086832</td>\n",
              "      <td>0.087293</td>\n",
              "    </tr>\n",
              "    <tr>\n",
              "      <th>Zemsta</th>\n",
              "      <td>0.067082</td>\n",
              "      <td>0.067839</td>\n",
              "      <td>1.000000</td>\n",
              "      <td>0.065258</td>\n",
              "      <td>0.077376</td>\n",
              "    </tr>\n",
              "    <tr>\n",
              "      <th>Zwierzeta, ludzie, bogowie</th>\n",
              "      <td>0.125177</td>\n",
              "      <td>0.086832</td>\n",
              "      <td>0.065258</td>\n",
              "      <td>1.000000</td>\n",
              "      <td>0.140818</td>\n",
              "    </tr>\n",
              "    <tr>\n",
              "      <th>Ksiega dzungli</th>\n",
              "      <td>0.115722</td>\n",
              "      <td>0.087293</td>\n",
              "      <td>0.077376</td>\n",
              "      <td>0.140818</td>\n",
              "      <td>1.000000</td>\n",
              "    </tr>\n",
              "  </tbody>\n",
              "</table>\n",
              "</div>"
            ],
            "text/plain": [
              "                             Panstwo  ...  Ksiega dzungli\n",
              "Panstwo                     1.000000  ...        0.115722\n",
              "Rozmyslania                 0.149584  ...        0.087293\n",
              "Zemsta                      0.067082  ...        0.077376\n",
              "Zwierzeta, ludzie, bogowie  0.125177  ...        0.140818\n",
              "Ksiega dzungli              0.115722  ...        1.000000\n",
              "\n",
              "[5 rows x 5 columns]"
            ]
          },
          "metadata": {
            "tags": []
          },
          "execution_count": 8
        }
      ]
    },
    {
      "cell_type": "code",
      "metadata": {
        "id": "5aqpzhdYzbOh"
      },
      "source": [
        "#5. Przeprowadzić redukcję wymiarowości wymiarów macierzy tf-idf do 2 wymiarów  i zwizualizować położenie dokumentów na układzie współrzędnych.\n",
        "df = tfidf_pd_matrix\n",
        "# Rozdzielenie cech\n",
        "x = df.loc[:].values\n",
        "y = df.index.values"
      ],
      "execution_count": 9,
      "outputs": []
    },
    {
      "cell_type": "code",
      "metadata": {
        "id": "p5dLAU9WQsuJ"
      },
      "source": [
        "from sklearn.decomposition import PCA\n",
        "pca = PCA(n_components=2)\n",
        "principalComponents = pca.fit_transform(x)\n",
        "principalDf = pd.DataFrame(data = principalComponents,\n",
        "                           columns = ['principal component 1', 'principal component 2'])\n",
        "principalDf['target'] = y # dodanie tytułu do tabeli\n",
        "# principalDf # tabela PCA"
      ],
      "execution_count": 10,
      "outputs": []
    },
    {
      "cell_type": "code",
      "metadata": {
        "id": "GwSGswLib1IK",
        "colab": {
          "base_uri": "https://localhost:8080/",
          "height": 523
        },
        "outputId": "66a19135-4113-47c3-dff6-e8cc6b5bf4dd"
      },
      "source": [
        "import matplotlib.pyplot as plt\n",
        "fig = plt.figure(figsize = (8,8))\n",
        "ax = fig.add_subplot(1,1,1) \n",
        "ax.set_xlabel('Principal Component 1', fontsize = 15)\n",
        "ax.set_ylabel('Principal Component 2', fontsize = 15)\n",
        "ax.set_title('2 component PCA', fontsize = 20)\n",
        "targets = y\n",
        "colors = ['r', 'g', 'b', 'y', 'orange']\n",
        "for target, color in zip(targets,colors):\n",
        "    indicesToKeep = principalDf['target'] == target\n",
        "    ax.scatter(principalDf.loc[indicesToKeep, 'principal component 1'],\n",
        "               principalDf.loc[indicesToKeep, 'principal component 2'],\n",
        "               c = color,\n",
        "               s = 50)\n",
        "ax.legend(targets)\n",
        "ax.grid()"
      ],
      "execution_count": 11,
      "outputs": [
        {
          "output_type": "display_data",
          "data": {
            "image/png": "[encoded data removed]",
            "text/plain": [
              "<Figure size 576x576 with 1 Axes>"
            ]
          },
          "metadata": {
            "tags": [],
            "needs_background": "light"
          }
        }
      ]
    },
    {
      "cell_type": "markdown",
      "metadata": {
        "id": "CNDvIkkmzqpP"
      },
      "source": [
        "6. Skomentować spójność wyników z punktu 4 i 5. Które dokumenty są najbardziej podobne do siebie  w obydwu wariantach ?\n",
        "\n",
        "W PCA najbardziej podobne do siebie są \"Księga dżungli\" i \"Zwierzęta, ludzie, bogowie\". Obydwie książki opisują przygody dziejące się w dżunglach oraz zostały napisane i przetłumaczone w XX wieku, stąd słownictwo w nich jest podobne. Z odległości na PCA można odnieść jednak wrażenie, że są do siebie bardziej podobne, niż to wynika z macierzy podobieństwa kosinusowego (0,14).\n",
        "\n",
        "Z podobieństwa kosinusowego najbardziej podobne są do siebie \"Państwo\" i \"Rozmyślania\" ~ 0.15. Odległość na PCA jest jednak dalsza niż na poprzednim zestawieniu. Obydwie są książkami filozoficznymi i zostały napisane w starożytności, lecz przetłumaczone na współczesny polski. Być może dlatego cztery wymienione książki leżą blisko siebie pod względem współrzędnej PC1.\n",
        "\n",
        "\"Zemsta\" w obydwóch przypadkach nie jest podobna do innych książek. Jest to komedia teatralna z okresu Romantyzmu, więc słownictwo w niej użyte bardzo różni się od współczesnego polskiego, którym przetłumaczone zostały pozostałe książki i na PCA znajduje się daleko od nich.\n",
        "\n"
      ]
    }
  ]
}